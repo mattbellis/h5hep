{
 "cells": [
  {
   "cell_type": "markdown",
   "metadata": {},
   "source": [
    "# Write a file"
   ]
  },
  {
   "cell_type": "code",
   "execution_count": null,
   "metadata": {},
   "outputs": [],
   "source": [
    "import numpy as np\n",
    "import matplotlib.pylab as plt\n",
    "\n",
    "import h5hep"
   ]
  },
  {
   "cell_type": "code",
   "execution_count": null,
   "metadata": {},
   "outputs": [],
   "source": [
    "# Create a data container\n",
    "data = h5hep.initialize()\n",
    "\n",
    "# Create some groups and datasets\n",
    "# Datasets are like data members of an the group/object\n",
    "\n",
    "h5hep.create_group(data,'jets',counter='njet')\n",
    "h5hep.create_dataset(data,['e','px','py','pz'],group='jets',dtype=float)\n",
    "\n",
    "h5hep.create_group(data,'muons',counter='nmuon')\n",
    "h5hep.create_dataset(data,['e','px','py','pz'],group='muons',dtype=float)\n",
    "\n",
    "# Create a single event bucket for us to fill\n",
    "event = h5hep.create_single_event(data)\n"
   ]
  },
  {
   "cell_type": "markdown",
   "metadata": {},
   "source": [
    "## Write some fake data into the file"
   ]
  },
  {
   "cell_type": "code",
   "execution_count": null,
   "metadata": {},
   "outputs": [],
   "source": [
    "nevents = 1000\n",
    "\n",
    "for i in range(0,nevents):\n",
    "\n",
    "    # Must do this each time\n",
    "    h5hep.clear_event(event)\n",
    "\n",
    "    njets = np.random.randint(0,6)\n",
    "    event['jets/njet'] = njets\n",
    "\n",
    "    for n in range(njets):\n",
    "        event['jets/e'].append(100*np.random.random())\n",
    "        event['jets/px'].append(100*np.random.random())\n",
    "        event['jets/py'].append(100*np.random.random())\n",
    "        event['jets/pz'].append(100*np.random.random())\n",
    "\n",
    "    nmuons = np.random.randint(0,6)\n",
    "    event['muons/nmuon'] = nmuons\n",
    "        \n",
    "    for n in range(nmuons):\n",
    "        event['muons/e'].append(100*np.random.random())\n",
    "        event['muons/px'].append(100*np.random.random())\n",
    "        event['muons/py'].append(100*np.random.random())\n",
    "        event['muons/pz'].append(100*np.random.random())\n",
    "\n",
    "    h5hep.pack(data,event)\n",
    "\n",
    "print(\"Writing the file...\")\n",
    "\n",
    "hdfile = h5hep.write_to_file('output.hdf5',data,comp_type='gzip',comp_opts=9)\n"
   ]
  },
  {
   "cell_type": "markdown",
   "metadata": {},
   "source": [
    "# Read a file\n",
    "\n",
    "## Open the file and pull out some data entries"
   ]
  },
  {
   "cell_type": "code",
   "execution_count": null,
   "metadata": {},
   "outputs": [],
   "source": [
    "filename = 'output.hdf5'\n",
    "data,event = h5hep.load(filename,verbose=False)\n",
    "\n",
    "print(\"# of entries: {0}\".format(data['nentries']))\n",
    "\n",
    "x = data['jets/e']\n",
    "\n",
    "plt.figure()\n",
    "plt.hist(x,bins=50);"
   ]
  },
  {
   "cell_type": "markdown",
   "metadata": {},
   "source": [
    "## Read the file so as to only get some datasets (speeds up reading)"
   ]
  },
  {
   "cell_type": "code",
   "execution_count": null,
   "metadata": {},
   "outputs": [],
   "source": [
    "filename = 'output.hdf5'\n",
    "data,event = h5hep.load(filename,verbose=False,desired_datasets=['jets'])\n",
    "\n",
    "print(\"# of entries: {0}\".format(data['nentries']))\n",
    "\n",
    "\n",
    "x = data['jets/e']\n",
    "\n",
    "plt.figure()\n",
    "plt.hist(x,bins=50);"
   ]
  },
  {
   "cell_type": "markdown",
   "metadata": {},
   "source": [
    "## Read only a subset of the entries"
   ]
  },
  {
   "cell_type": "code",
   "execution_count": null,
   "metadata": {},
   "outputs": [],
   "source": [
    "filename = 'output.hdf5'\n",
    "data,event = h5hep.load(filename,verbose=False,desired_datasets=['jets'],subset=(100,500))\n",
    "\n",
    "print(\"# of entries: {0}\".format(data['nentries']))\n",
    "\n",
    "e = data['jets/e']\n",
    "px = data['jets/px']\n",
    "py = data['jets/py']\n",
    "pz = data['jets/pz']\n",
    "\n",
    "m2 = e**2 - (px**2 + py**2 + pz**2)\n",
    "\n",
    "plt.figure()\n",
    "plt.hist(m2,bins=50);"
   ]
  },
  {
   "cell_type": "markdown",
   "metadata": {},
   "source": [
    "## Read in the data and loop over the entries, a la ROOT"
   ]
  },
  {
   "cell_type": "code",
   "execution_count": null,
   "metadata": {},
   "outputs": [],
   "source": [
    "filename = 'output.hdf5'\n",
    "data,event = h5hep.load(filename)\n",
    "\n",
    "print(\"# of entries: {0}\".format(data['nentries']))\n",
    "\n",
    "nentries = data['nentries']\n",
    "\n",
    "x = []\n",
    "\n",
    "for n in range(0,nentries):\n",
    "\n",
    "    h5hep.unpack(event,data,n=n)\n",
    "\n",
    "    # Now make use of the \"event\" bucket\n",
    "    for i in range(event['muons/nmuon']):\n",
    "        \n",
    "        energy = event['muons/e'][i]\n",
    "        \n",
    "        if energy>25:\n",
    "            x.append(event['muons/px'][i])\n",
    "\n",
    "print(len(x))\n",
    "\n",
    "plt.figure()\n",
    "plt.hist(x,bins=100);\n"
   ]
  },
  {
   "cell_type": "code",
   "execution_count": null,
   "metadata": {},
   "outputs": [],
   "source": []
  }
 ],
 "metadata": {
  "kernelspec": {
   "display_name": "Python 3",
   "language": "python",
   "name": "python3"
  },
  "language_info": {
   "codemirror_mode": {
    "name": "ipython",
    "version": 3
   },
   "file_extension": ".py",
   "mimetype": "text/x-python",
   "name": "python",
   "nbconvert_exporter": "python",
   "pygments_lexer": "ipython3",
   "version": "3.6.8"
  }
 },
 "nbformat": 4,
 "nbformat_minor": 2
}

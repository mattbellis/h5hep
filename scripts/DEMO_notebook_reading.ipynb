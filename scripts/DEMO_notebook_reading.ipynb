{
 "cells": [
  {
   "cell_type": "markdown",
   "metadata": {},
   "source": [
    "# Reading"
   ]
  },
  {
   "cell_type": "code",
   "execution_count": null,
   "metadata": {
    "collapsed": true
   },
   "outputs": [],
   "source": [
    "#import h5py as h5\n",
    "import numpy as np\n",
    "import matplotlib.pylab as plt\n",
    "import h5hep as hp\n",
    "\n",
    "import lichen.lichen as lch"
   ]
  },
  {
   "cell_type": "code",
   "execution_count": null,
   "metadata": {
    "collapsed": true
   },
   "outputs": [],
   "source": [
    "filename = 'HEP_random_file_LARGE.hdf5'\n",
    "\n",
    "################### H5HEP ###########################\n",
    "data,event = hp.hd5events(filename,verbose=False)\n"
   ]
  },
  {
   "cell_type": "code",
   "execution_count": null,
   "metadata": {},
   "outputs": [],
   "source": [
    "# Let's examine the 'data' dictionary. \n",
    "print(data)"
   ]
  },
  {
   "cell_type": "code",
   "execution_count": null,
   "metadata": {},
   "outputs": [],
   "source": [
    "data.keys()"
   ]
  },
  {
   "cell_type": "code",
   "execution_count": null,
   "metadata": {},
   "outputs": [],
   "source": [
    "event"
   ]
  },
  {
   "cell_type": "code",
   "execution_count": null,
   "metadata": {},
   "outputs": [],
   "source": [
    "e = data['jet/e']\n",
    "print(len(e))\n",
    "print(type(e))"
   ]
  },
  {
   "cell_type": "code",
   "execution_count": null,
   "metadata": {},
   "outputs": [],
   "source": [
    "plt.figure(figsize=(8,4))\n",
    "plt.subplot(1,2,1)\n",
    "plt.hist(e,bins=100);\n",
    "\n",
    "plt.subplot(1,2,2)\n",
    "plt.hist(e[e>100],bins=100);"
   ]
  },
  {
   "cell_type": "code",
   "execution_count": null,
   "metadata": {},
   "outputs": [],
   "source": [
    "px = data['jet/px']\n",
    "py = data['jet/py']\n",
    "pz = data['jet/pz']\n",
    "\n",
    "m = np.sqrt(e*e - (px*px + py*py + pz*pz))"
   ]
  },
  {
   "cell_type": "code",
   "execution_count": null,
   "metadata": {},
   "outputs": [],
   "source": [
    "plt.figure()\n",
    "plt.hist(m[m==m],bins=100);"
   ]
  },
  {
   "cell_type": "markdown",
   "metadata": {},
   "source": [
    "# Looping over events"
   ]
  },
  {
   "cell_type": "code",
   "execution_count": null,
   "metadata": {},
   "outputs": [],
   "source": [
    "################### H5HEP ###########################\n",
    "hp.get_event(event,data,n=10)\n",
    "\n",
    "print(event)\n",
    "\n"
   ]
  },
  {
   "cell_type": "code",
   "execution_count": null,
   "metadata": {},
   "outputs": [],
   "source": [
    "event['jet/e']"
   ]
  },
  {
   "cell_type": "code",
   "execution_count": null,
   "metadata": {},
   "outputs": [],
   "source": [
    "nevents = len(data['jet/njet'])\n",
    "print(\"nevents: \",nevents)"
   ]
  },
  {
   "cell_type": "code",
   "execution_count": null,
   "metadata": {
    "scrolled": false
   },
   "outputs": [],
   "source": [
    "hi_pt = []\n",
    "\n",
    "for i in range(0,nevents):\n",
    "    \n",
    "    if (i%10000==0):\n",
    "        print(i)\n",
    "    \n",
    "    ################### H5HEP ###########################\n",
    "    hp.get_event(event,data,n=i)\n",
    "    \n",
    "    if event['jet/njet']>0:\n",
    "        px = event['jet/px']\n",
    "        py = event['jet/py']\n",
    "        \n",
    "        pt = np.sqrt(px*px + py*py)\n",
    "        \n",
    "        hi_pt.append(max(pt))\n",
    "    \n",
    "print(len(hi_pt))\n",
    "\n",
    "\n",
    "\n",
    "    \n",
    "    "
   ]
  },
  {
   "cell_type": "code",
   "execution_count": null,
   "metadata": {},
   "outputs": [],
   "source": [
    "plt.figure(figsize=(8,4))\n",
    "plt.subplot(1,2,1)\n",
    "plt.hist(hi_pt,bins=100);\n",
    "plt.xlabel(r'jet $p_T$ (GeV/c)',fontsize=18)\n",
    "    \n",
    "plt.subplot(1,2,2)\n",
    "lch.hist_err(hi_pt,bins=100);\n",
    "plt.xlabel(r'jet $p_T$ (GeV/c)',fontsize=18)\n",
    "\n",
    "plt.tight_layout()"
   ]
  }
 ],
 "metadata": {
  "kernelspec": {
   "display_name": "Python 3",
   "language": "python",
   "name": "python3"
  },
  "language_info": {
   "codemirror_mode": {
    "name": "ipython",
    "version": 3
   },
   "file_extension": ".py",
   "mimetype": "text/x-python",
   "name": "python",
   "nbconvert_exporter": "python",
   "pygments_lexer": "ipython3",
   "version": "3.6.1"
  }
 },
 "nbformat": 4,
 "nbformat_minor": 2
}

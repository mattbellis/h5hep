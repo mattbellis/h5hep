{
 "cells": [
  {
   "cell_type": "markdown",
   "metadata": {},
   "source": [
    "# Writing"
   ]
  },
  {
   "cell_type": "code",
   "execution_count": 1,
   "metadata": {
    "collapsed": true
   },
   "outputs": [],
   "source": [
    "#import h5py as h5\n",
    "import numpy as np\n",
    "import matplotlib.pylab as plt\n",
    "%matplotlib notebook\n",
    "\n",
    "import h5hep as hp\n",
    "\n",
    "import lichen.lichen as lch"
   ]
  },
  {
   "cell_type": "code",
   "execution_count": 2,
   "metadata": {},
   "outputs": [
    {
     "name": "stdout",
     "output_type": "stream",
     "text": [
      "{'counters': {}, 'groups': {}, 'list_of_counters': []}\n"
     ]
    }
   ],
   "source": [
    "# Create an empty dictionary with some default keys. \n",
    "\n",
    "################### H5HEP ###########################\n",
    "data = hp.initialize()\n",
    "\n",
    "print(data)"
   ]
  },
  {
   "cell_type": "code",
   "execution_count": 3,
   "metadata": {},
   "outputs": [
    {
     "name": "stdout",
     "output_type": "stream",
     "text": [
      "Adding group \u001b[1mjet\u001b[0m\n",
      "Adding a counter for \u001b[1mjet\u001b[0m as \u001b[1mnjet\u001b[0m\n",
      "Adding dataset \u001b[1me\u001b[0m to the dictionary under group \u001b[1mjet\u001b[0m.\n",
      "Adding dataset \u001b[1mpx\u001b[0m to the dictionary under group \u001b[1mjet\u001b[0m.\n",
      "Adding dataset \u001b[1mpy\u001b[0m to the dictionary under group \u001b[1mjet\u001b[0m.\n",
      "Adding dataset \u001b[1mpz\u001b[0m to the dictionary under group \u001b[1mjet\u001b[0m.\n",
      "Adding group \u001b[1mmuons\u001b[0m\n",
      "Adding a counter for \u001b[1mmuons\u001b[0m as \u001b[1mnmuon\u001b[0m\n",
      "Adding dataset \u001b[1me\u001b[0m to the dictionary under group \u001b[1mmuons\u001b[0m.\n",
      "Adding dataset \u001b[1mpx\u001b[0m to the dictionary under group \u001b[1mmuons\u001b[0m.\n",
      "Adding dataset \u001b[1mpy\u001b[0m to the dictionary under group \u001b[1mmuons\u001b[0m.\n",
      "Adding dataset \u001b[1mpz\u001b[0m to the dictionary under group \u001b[1mmuons\u001b[0m.\n"
     ]
    }
   ],
   "source": [
    "################### H5HEP ###########################\n",
    "hp.create_group(data,'jet',counter='njet')\n",
    "hp.create_dataset(data,['e','px','py','pz'],group='jet',dtype=float)\n",
    "\n",
    "hp.create_group(data,'muons',counter='nmuon')\n",
    "hp.create_dataset(data,['e','px','py','pz'],group='muons',dtype=float)\n"
   ]
  },
  {
   "cell_type": "code",
   "execution_count": 4,
   "metadata": {
    "collapsed": true
   },
   "outputs": [],
   "source": [
    "# Create a dictionary that will hold the information for a single event\n",
    "\n",
    "################### H5HEP ###########################\n",
    "event = hp.create_single_event(data)"
   ]
  },
  {
   "cell_type": "code",
   "execution_count": 5,
   "metadata": {
    "collapsed": true
   },
   "outputs": [],
   "source": [
    "# Fill 100k events with random values\n",
    "\n",
    "for i in range(0,100000):\n",
    "\n",
    "    ################### H5HEP ###########################\n",
    "    hp.clear_event(event)\n",
    "\n",
    "    njet = np.random.randint(5)\n",
    "    event['jet/njet'] = njet\n",
    "\n",
    "    for n in range(njet):\n",
    "        event['jet/e'].append(np.random.random())\n",
    "        event['jet/px'].append(np.random.random())\n",
    "        event['jet/py'].append(np.random.random())\n",
    "        event['jet/pz'].append(np.random.random())\n",
    "\n",
    "    \n",
    "    nmuons = np.random.randint(5)\n",
    "    event['muons/nmuon'] = nmuons\n",
    "\n",
    "    for n in range(nmuons):\n",
    "        event['muons/e'].append(np.random.random())\n",
    "        event['muons/px'].append(np.random.random())\n",
    "        event['muons/py'].append(np.random.random())\n",
    "        event['muons/pz'].append(np.random.random())\n",
    "\n",
    "    ################### H5HEP ###########################\n",
    "    hp.fill(data,event)\n"
   ]
  },
  {
   "cell_type": "code",
   "execution_count": 6,
   "metadata": {},
   "outputs": [
    {
     "data": {
      "text/plain": [
       "100000"
      ]
     },
     "execution_count": 6,
     "metadata": {},
     "output_type": "execute_result"
    }
   ],
   "source": [
    "len(data['jet/njet'])"
   ]
  },
  {
   "cell_type": "code",
   "execution_count": 7,
   "metadata": {},
   "outputs": [
    {
     "data": {
      "text/plain": [
       "<Closed HDF5 file>"
      ]
     },
     "execution_count": 7,
     "metadata": {},
     "output_type": "execute_result"
    }
   ],
   "source": [
    "################### H5HEP ###########################\n",
    "hp.write_to_file('output.hdf5',data,comp_type='gzip',comp_opts=9)"
   ]
  },
  {
   "cell_type": "code",
   "execution_count": null,
   "metadata": {
    "collapsed": true
   },
   "outputs": [],
   "source": []
  }
 ],
 "metadata": {
  "kernelspec": {
   "display_name": "Python 3",
   "language": "python",
   "name": "python3"
  },
  "language_info": {
   "codemirror_mode": {
    "name": "ipython",
    "version": 3
   },
   "file_extension": ".py",
   "mimetype": "text/x-python",
   "name": "python",
   "nbconvert_exporter": "python",
   "pygments_lexer": "ipython3",
   "version": "3.6.1"
  }
 },
 "nbformat": 4,
 "nbformat_minor": 2
}
